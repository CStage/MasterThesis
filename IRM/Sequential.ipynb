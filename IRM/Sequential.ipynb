{
  "cells": [
    {
      "cell_type": "markdown",
      "metadata": {
        "id": "Wig3P2tUSYPy"
      },
      "source": [
        "# Mount Google Drive\n",
        "For easy access to datasets"
      ]
    },
    {
      "cell_type": "code",
      "execution_count": null,
      "metadata": {
        "colab": {
          "base_uri": "https://localhost:8080/"
        },
        "id": "woCAiXwCO8UN",
        "outputId": "ca2d303a-7fd0-4a38-ccc1-d6aac1f59643"
      },
      "outputs": [
        {
          "name": "stdout",
          "output_type": "stream",
          "text": [
            "Drive already mounted at /content/drive; to attempt to forcibly remount, call drive.mount(\"/content/drive\", force_remount=True).\n"
          ]
        }
      ],
      "source": [
        "from google.colab import drive\n",
        "drive.mount('/content/drive')"
      ]
    },
    {
      "cell_type": "markdown",
      "metadata": {
        "id": "oP2r8E_xSfju"
      },
      "source": [
        "# Imports"
      ]
    },
    {
      "cell_type": "code",
      "execution_count": null,
      "metadata": {
        "colab": {
          "base_uri": "https://localhost:8080/"
        },
        "id": "PBTmatDSV7j5",
        "outputId": "e448ff41-6861-4bc3-bf92-07f9dc16aa11"
      },
      "outputs": [
        {
          "data": {
            "text/plain": [
              "131072"
            ]
          },
          "execution_count": 3,
          "metadata": {},
          "output_type": "execute_result"
        }
      ],
      "source": [
        "import torch\n",
        "import torchvision\n",
        "from PIL import Image\n",
        "from torch.utils.data import Dataset, random_split, DataLoader\n",
        "import matplotlib.pyplot as plt\n",
        "from tqdm import tqdm\n",
        "import h5py\n",
        "import numpy as np\n",
        "import random\n",
        "import torch.nn as nn\n",
        "import torch.nn.functional as F\n",
        "import torch.optim as optim\n",
        "import torchvision.transforms as transforms\n",
        "import os\n",
        "from datetime import datetime\n",
        "import csv\n",
        "import sys\n",
        "import math\n",
        "csv.field_size_limit(sys.maxsize)"
      ]
    },
    {
      "cell_type": "markdown",
      "metadata": {
        "id": "bwPCYCT3emx9"
      },
      "source": [
        "# Paths\n",
        "Specify if Christian or Philip here"
      ]
    },
    {
      "cell_type": "code",
      "execution_count": null,
      "metadata": {
        "id": "q-paJ85xerTD"
      },
      "outputs": [],
      "source": [
        "#Put name here!\n",
        "name = \"christian\"\n",
        "\n",
        "if name.lower() == \"christian\":\n",
        "  checkpoint_path = r\"/content/drive/MyDrive/ML models/Checkpoints/IRM\"\n",
        "  master_path = r\"/content/drive/MyDrive/Data/For Machines.hdf5\"\n",
        "  minmax_path = r\"/content/drive/MyDrive/Data/minmax.hdf5\"\n",
        "  train_path = r\"/content/drive/MyDrive/Data/Train.hdf5\"\n",
        "  dev_path = r\"/content/drive/MyDrive/Data/Dev.hdf5\"\n",
        "  csv_path = r\"/content/drive/MyDrive/Data/CSV_Data\"\n",
        "elif name.lower() == \"philip\":\n",
        "  checkpoint_path = r\"/content/drive/MyDrive/ITU/Software Design - Kandidat/Master Thesis/ML models/Checkpoints/IRM\"\n",
        "  train_path = r\"/content/drive/MyDrive/ITU/Software Design - Kandidat/Master Thesis/Data/Train.hdf5\"\n",
        "  master_path = r\"/content/drive/MyDrive/ITU/Software Design - Kandidat/Master Thesis/Data/For Machines.hdf5\"\n",
        "  minmax_path = r\"/content/drive/MyDrive/ITU/Software Design - Kandidat/Master Thesis/Data/minmax.hdf5\"\n",
        "  dev_path = r\"/content/drive/MyDrive/ITU/Software Design - Kandidat/Master Thesis/Data/Dev.hdf5\"\n",
        "  csv_path = r\"/content/drive/MyDrive/ITU/Software Design - Kandidat/Master Thesis/Data/CSV_Data\"\n",
        "else:\n",
        "  raise Exception(\"Invalid name for path - use 'christian' or 'philip'\")"
      ]
    },
    {
      "cell_type": "markdown",
      "metadata": {
        "id": "3tTs2-3cShhS"
      },
      "source": [
        "# Dataset Class\n",
        "Note, this is slightly different from the tutorial that this implementation is based on as our dataset is in the *HDF5*-format"
      ]
    },
    {
      "cell_type": "code",
      "execution_count": null,
      "metadata": {
        "id": "-Fb4lpUCfPQf"
      },
      "outputs": [],
      "source": [
        "# Current version used for testing the set up\n",
        "\n",
        "class FiskeSet_test(Dataset):\n",
        "  def __init__(self, anchors, positives, seed, amount, transform=None, version=\"vanilla\"):\n",
        "    random.seed(seed)\n",
        "    if amount <=1:\n",
        "      raise Exception(\"Amount of samples must be greater than 1 or negatives cannot be fetched.\")\n",
        "\n",
        "\n",
        "    self.anchors = anchors\n",
        "    self.positives = positives\n",
        "    self.transform = transform\n",
        "    self.amount = amount\n",
        "\n",
        "  def __len__(self):\n",
        "    return self.amount\n",
        "\n",
        "  def __getitem__(self, idx):\n",
        "    anchor = self.anchors[idx]\n",
        "    positive = self.positives[idx]\n",
        "\n",
        "    negative = self.anchors[random.choice(range(self.amount))]\n",
        "    while torch.all(torch.eq(anchor, negative)):\n",
        "      negative = self.anchors[random.choice(range(self.amount))]\n",
        "\n",
        "    if self.transform:\n",
        "      if version != \"vanilla\":\n",
        "        positive = Image.fromarray(positive)\n",
        "      positive = self.transform(positive)\n",
        "\n",
        "    return anchor, positive, negative"
      ]
    },
    {
      "cell_type": "code",
      "execution_count": null,
      "metadata": {
        "id": "LYrPz1O8qMvT"
      },
      "outputs": [],
      "source": [
        "# Generic version used for the entire dataset (once ready)\n",
        "\n",
        "class FiskeSet(Dataset):\n",
        "  def __init__(self, anchors, positives, seed, transform=None, version = \"vanilla\"):\n",
        "    random.seed(seed)\n",
        "    \n",
        "    self.anchors = anchors\n",
        "    self.positives = positives\n",
        "    self.transform = transform\n",
        "    \n",
        "  def __len__(self):\n",
        "    return len(self.positives)\n",
        "\n",
        "  def __getitem__(self, idx):\n",
        "    anchor = self.anchors[idx]\n",
        "    positive = self.positives[idx]\n",
        "\n",
        "    negative = random.choice(self.anchors)\n",
        "    while torch.all(torch.eq(anchor, negative)):\n",
        "      negative = random.choice(self.anchors)\n",
        "\n",
        "    if self.transform:\n",
        "      if version != \"vanilla\":\n",
        "        positive = Image.fromarray(positive)\n",
        "      positive = self.transform(positive)\n",
        "\n",
        "    return anchor, positive, negative"
      ]
    },
    {
      "cell_type": "markdown",
      "metadata": {
        "id": "U5NJSe5fStsY"
      },
      "source": [
        "# Data Loading"
      ]
    },
    {
      "cell_type": "code",
      "execution_count": null,
      "metadata": {
        "id": "7nAmByBwFCJh"
      },
      "outputs": [],
      "source": [
        "#Images need to be transformed in accordance with the specifications of the version\n",
        "\n",
        "version = \"vanilla\"\n",
        "\n",
        "if version == \"resnet\":\n",
        "  transform = transforms.Compose([\n",
        "    transforms.Resize(256),\n",
        "    transforms.CenterCrop(224),\n",
        "    transforms.ToTensor(),\n",
        "    transforms.Normalize(mean=[0.485, 0.456, 0.406], std=[0.229, 0.224, 0.225]),\n",
        "])\n",
        "\n",
        "elif version == \"vanilla\":\n",
        "  transform = transforms.Compose(\n",
        "      [transforms.ToTensor(),\n",
        "      transforms.Normalize((0.5, 0.5, 0.5), (0.5, 0.5, 0.5))])\n",
        "\n",
        "else:\n",
        "  raise Exception(\"Please input a valid cnn-model\")\n",
        "\n",
        "def seq_data_normalization(data):\n",
        "  h = h5py.File(minmax_path, \"r\")\n",
        "  mins = h[\"Timbres\"][0]\n",
        "  maxs = h[\"Timbres\"][1]\n",
        "  for i in range(data.shape[2]):\n",
        "    lfunc = lambda e: (e-mins[i])/(maxs[i]-mins[i])\n",
        "    data[:, :, i] = lfunc(data[:, :, i])\n",
        "  \n",
        "  return data\n",
        "\n",
        "\n",
        "def create_sequential_dataset_advanced_padding(path, input_attributes, seed, length=1024, amount = None, debug = False, version=\"vanilla\", normalized=False):\n",
        "  \"\"\"\n",
        "  Multiple Sequential Data attributes will make this break (overwrites anchors each time)\n",
        "  \"\"\"\n",
        "  h = h5py.File(path, \"r\")\n",
        "  legal = all([att in h.keys() for att in input_attributes])\n",
        "  if legal:\n",
        "    if debug:\n",
        "      random.seed(seed)\n",
        "      rands = random.sample(range(h[\"Single Value Data\"].shape[0]), amount)\n",
        "      rands.sort()\n",
        "      images = h[\"Images\"][rands]\n",
        "      for att in input_attributes:\n",
        "        anchors = torch.tensor(h[att][rands, :length, :])\n",
        "        if normalized:\n",
        "          anchors = seq_data_normalization(anchors)\n",
        "        anchors2 = torch.zeros(anchors.shape[0], 1024, 12)\n",
        "        for idx, anchor in enumerate(anchors):\n",
        "          #shape = (1024, 12)\n",
        "          infs = (anchor == math.inf).nonzero(as_tuple=True)[0]\n",
        "          if len(infs) > 0:\n",
        "            base_anchor = anchor[:infs[0], :]\n",
        "            #shape = (L, 12)\n",
        "            L = base_anchor.shape[0]\n",
        "            x = (length-L) // 2\n",
        "            if (length-L) % 2 == 0:\n",
        "              anchor = F.pad(base_anchor, (0, 0, x, x))\n",
        "            else:\n",
        "              base_anchor = torch.cat((base_anchor, torch.tensor([[0]*12])))\n",
        "              anchor = F.pad(base_anchor, (0, 0, x, x))\n",
        "            anchor[anchor == math.inf] = 0\n",
        "            anchors2[idx] = anchor\n",
        "      anchors2 = anchors2.permute(0, 2, 1)\n",
        "      dataset = FiskeSet_test(anchors2, images, seed, amount, transform, version)\n",
        "    else:\n",
        "      #Is missing      \n",
        "      images = h[\"Images\"]\n",
        "      for att in input_attributes:\n",
        "        anchors = torch.tensor(h[att][:, :length, :])\n",
        "        if normalized:\n",
        "          anchors = seq_data_normalization(anchors)\n",
        "        anchors2 = torch.zeros(anchors.shape[0], 1024, 12)    \n",
        "        for idx, anchor in enumerate(anchors):\n",
        "          #shape = (1024, 12)\n",
        "          infs = (anchor == math.inf).nonzero(as_tuple=True)[0]\n",
        "          if len(infs) > 0:\n",
        "            base_anchor = anchor[:infs[0], :]\n",
        "            #shape = (L, 12)\n",
        "            L = base_anchor.shape[0]\n",
        "            x = (length-L) // 2\n",
        "            if (length-L) % 2 == 0:\n",
        "              anchor = F.pad(base_anchor, (0, 0, x, x))\n",
        "            else:\n",
        "              base_anchor = torch.cat((base_anchor, torch.tensor([[0]*12])))\n",
        "              anchor = F.pad(base_anchor, (0, 0, x, x))\n",
        "            anchor[anchor == math.inf] = 0\n",
        "            anchors2[idx] = anchor    \n",
        "      anchors2 = anchors2.permute(0, 2, 1)\n",
        "      dataset = FiskeSet(anchors2, images, seed, transform, version)\n",
        "    \n",
        "    return dataset\n",
        "  else:\n",
        "    raise Exception(\"You make crai with illegal attributes :(\")"
      ]
    },
    {
      "cell_type": "markdown",
      "metadata": {
        "id": "cAThTrWCyfxz"
      },
      "source": [
        "# Image conversion setup"
      ]
    },
    {
      "cell_type": "code",
      "execution_count": null,
      "metadata": {
        "id": "HUNRjqPhynrK"
      },
      "outputs": [],
      "source": [
        "def show_img(rgb_matrix):\n",
        "  img = rgb_matrix.permute(1, 2, 0)\n",
        "  img = np.array(img)\n",
        "  plt.imshow(img)\n",
        "\n",
        "def show_x_images(imgs):\n",
        "  fig = plt.figure(figsize=(50, 30))\n",
        "\n",
        "  x = len(imgs)\n",
        "  # setting values to rows and column variables\n",
        "  if x % 2 == 0:\n",
        "    rows = x/2\n",
        "    columns = x/2\n",
        "  else:\n",
        "    rows = (x+1)/2\n",
        "    columns = (x+1)/2\n",
        "\n",
        "  for i in range(1, x+1):\n",
        "    # Adds a subplot at the 1st position\n",
        "    fig.add_subplot(rows, columns, i)\n",
        "\n",
        "    # showing image\n",
        "    show_img(imgs[i-1])\n",
        "    plt.axis('off')\n",
        "    plt.title(i)\n",
        "\n",
        "def show_images_advanced(img_dict, image_path, save = False):\n",
        "  fig = plt.figure(figsize=(20, 20))\n",
        "  plt.tight_layout()\n",
        "  x = len(img_dict)\n",
        "  postfix = str(x) + \"_images_\" + datetime.now().strftime(\"%Y-%m-%d %H:%M:%S\")\n",
        "  if x % 2 == 0:\n",
        "    rows = x//2\n",
        "    columns = x//2\n",
        "  else:\n",
        "    rows = (x+1)//2\n",
        "    columns = rows\n",
        "\n",
        "  print(rows)\n",
        "  print(columns)\n",
        " \n",
        "  idx = 0\n",
        "  for key, value in img_dict.items():\n",
        "    if key == \"Anchor\":\n",
        "      plt.subplot2grid((rows, columns), (0, columns//2-1), rowspan=2, colspan=2)\n",
        "      show_img(value)\n",
        "      plt.axis('off')\n",
        "      idx += columns*2\n",
        "\n",
        "    else:\n",
        "      plt.subplot2grid((rows, columns), (idx//rows, idx%columns))\n",
        "      show_img(value)\n",
        "      plt.axis('off')\n",
        "      idx += 1\n",
        "    plt.title(key)\n",
        "\n",
        "  if save:\n",
        "    plt.savefig(f\"{image_path}/{postfix}.pdf\", dpi=300, bbox_inches=\"tight\")\n",
        "    "
      ]
    },
    {
      "cell_type": "markdown",
      "metadata": {
        "id": "NPl7rVdFa1S_"
      },
      "source": [
        "# Training initialization\n",
        "Options are specified here"
      ]
    },
    {
      "cell_type": "code",
      "execution_count": null,
      "metadata": {
        "colab": {
          "base_uri": "https://localhost:8080/",
          "height": 306
        },
        "id": "BARU4KFZa7rB",
        "outputId": "03be6d1a-3985-4b26-d65a-a7336b4858a2"
      },
      "outputs": [
        {
          "name": "stderr",
          "output_type": "stream",
          "text": [
            "Clipping input data to the valid range for imshow with RGB data ([0..1] for floats or [0..255] for integers).\n"
          ]
        },
        {
          "data": {
            "image/png": "[encoded data removed]",
            "text/plain": [
              "<Figure size 432x288 with 1 Axes>"
            ]
          },
          "metadata": {},
          "output_type": "display_data"
        }
      ],
      "source": [
        "input_attributes = [\"Timbres\"]\n",
        "seed = 42\n",
        "batch_size = 16\n",
        "\n",
        "amount = 10_000\n",
        "\n",
        "train_set = create_sequential_dataset_advanced_padding(train_path, input_attributes, seed=42, length=1024, amount=amount, debug=True, normalized=True)\n",
        "show_img(train_set[0][1])\n",
        "test_sample = train_set[0][0]\n",
        "\n",
        "#dev_set = create_dataset(dev_path, input_attributes)\n",
        "#test_set = create_dataset(test_path, input_attributes)\n",
        "amount = len(train_set)\n",
        "\n",
        "\n",
        "trainloader = DataLoader(train_set, shuffle = True, num_workers = 2, batch_size=batch_size)\n",
        "#devloader = DataLoader(dev_set, shuffle = True, num_workers = 2, batch_size=batch_size)\n",
        "#testloader = DataLoader(test_set, shuffle = True, num_workers = 2, batch_size=batch_size)"
      ]
    },
    {
      "cell_type": "markdown",
      "metadata": {
        "id": "co-q_h3yS6Oj"
      },
      "source": [
        "# Set Device"
      ]
    },
    {
      "cell_type": "code",
      "execution_count": null,
      "metadata": {
        "colab": {
          "base_uri": "https://localhost:8080/"
        },
        "id": "cOtZpR1Uyp33",
        "outputId": "e997936a-90a7-4a82-857f-984707addccf"
      },
      "outputs": [
        {
          "name": "stdout",
          "output_type": "stream",
          "text": [
            "cuda\n"
          ]
        }
      ],
      "source": [
        "device = 'cuda' if torch.cuda.is_available() else 'cpu'\n",
        "\n",
        "print(device)"
      ]
    },
    {
      "cell_type": "markdown",
      "metadata": {
        "id": "OlPKYVIyS8Kc"
      },
      "source": [
        "# Image CNN class\n",
        "Output mapped between -1 to 1 with tanh"
      ]
    },
    {
      "cell_type": "code",
      "execution_count": null,
      "metadata": {
        "id": "sqsgx982mHdF"
      },
      "outputs": [],
      "source": [
        "class IMG_CNN(nn.Module):\n",
        "  def __init__(self):\n",
        "    super().__init__()\n",
        "    self.conv1 = nn.Conv2d(3,6,5)\n",
        "    self.pool = nn.MaxPool2d(2,2)\n",
        "    self.conv2 = nn.Conv2d(6,16,5)\n",
        "    self.fc1 = nn.Linear(2704, 120)\n",
        "    self.fc2 = nn.Linear(120, 84)\n",
        "    self.fc3 = nn.Linear(84, 128)\n",
        "\n",
        "  def forward(self, x):\n",
        "    x = F.leaky_relu(self.conv1(x))\n",
        "    x = self.pool(x)\n",
        "    x = F.leaky_relu(self.conv2(x))\n",
        "    x = self.pool(x)\n",
        "    x = torch.flatten(x,1)\n",
        "    x = F.leaky_relu(self.fc1(x))\n",
        "    x = F.leaky_relu(self.fc2(x)) \n",
        "    x = torch.tanh(self.fc3(x))\n",
        "\n",
        "    return x\n"
      ]
    },
    {
      "cell_type": "markdown",
      "metadata": {
        "id": "uGNoUnVga5hc"
      },
      "source": [
        "# Deep Image CNN"
      ]
    },
    {
      "cell_type": "code",
      "execution_count": null,
      "metadata": {
        "id": "EXEeSN7ya5HE"
      },
      "outputs": [],
      "source": [
        "class Deep_IMG_CNN(nn.Module):\n",
        "  def __init__(self):\n",
        "    super().__init__()\n",
        "    self.conv1 = nn.Conv2d(3,6,5)\n",
        "    self.pool = nn.MaxPool2d(2,2)\n",
        "    self.conv2 = nn.Conv2d(6,16,5)\n",
        "    self.fc1 = nn.Linear(2704, 128)\n",
        "    self.fc2 = nn.Linear(128, 128)\n",
        "    self.fc3 = nn.Linear(128, 128)\n",
        "    self.fc4 = nn.Linear(128, 128)\n",
        "    self.fc5 = nn.Linear(128, 128)\n",
        "\n",
        "  def forward(self, x):\n",
        "\n",
        "    x = self.pool(F.leaky_relu(self.conv1(x)))\n",
        "    x = self.pool(F.leaky_relu(self.conv2(x)))\n",
        "    x = torch.flatten(x,1)\n",
        "    x = F.leaky_relu(self.fc1(x))\n",
        "    x = F.leaky_relu(self.fc2(x))\n",
        "    x = F.leaky_relu(self.fc3(x))\n",
        "    x = F.leaky_relu(self.fc4(x)) \n",
        "    x = torch.tanh(self.fc5(x))\n",
        "\n",
        "    return x\n"
      ]
    },
    {
      "cell_type": "markdown",
      "metadata": {
        "id": "jxglhCHX6Ymb"
      },
      "source": [
        "# Sequential Data CNN"
      ]
    },
    {
      "cell_type": "code",
      "execution_count": null,
      "metadata": {
        "id": "I0t20Q_B6b4V"
      },
      "outputs": [],
      "source": [
        "class SEQ_CNN(nn.Module):\n",
        "  def __init__(self):\n",
        "    super().__init__()\n",
        "    self.dropout = nn.Dropout(p=0.2)\n",
        "    self.print = False\n",
        "\n",
        "  def forward(self, x):\n",
        "    if self.print:\n",
        "      print(\"RAW\")\n",
        "      print(x.shape)\n",
        "      x1 = F.leaky_relu(self.conv1(x))\n",
        "      print(\"First\")\n",
        "      print(x1.shape)\n",
        "      x1 = F.max_pool1d(x1, kernel_size=x1.size(2)).squeeze(2)\n",
        "      print(\"First pool\")\n",
        "      print(x1.shape)\n",
        "      x2 = F.leaky_relu(self.conv2(x))\n",
        "      print(\"Second conv\")\n",
        "      print(x2.shape)\n",
        "      x2 = F.max_pool1d(x2, x2.size(2)).squeeze(2)\n",
        "      print(\"Second pool\")\n",
        "      print(x2.shape)\n",
        "      x3 = F.leaky_relu(self.conv3(x))\n",
        "      print(\"Third conv\")\n",
        "      print(x3.shape)\n",
        "      x3 = F.max_pool1d(x3, x3.size(2)).squeeze(2)\n",
        "      print(\"Third pool\")\n",
        "      print(x3.shape)\n",
        "\n",
        "      out = torch.cat((x1, x2, x3), dim=1)\n",
        "      out = self.fc1(self.dropout(out))\n",
        "      out = torch.tanh(out)\n",
        "    else:\n",
        "      x1 = F.leaky_relu(self.conv1(x))\n",
        "      x1 = F.max_pool1d(x1, kernel_size=x1.size(2)).squeeze(2)\n",
        "\n",
        "      x2 = F.leaky_relu(self.conv2(x))\n",
        "      x2 = F.max_pool1d(x2, x2.size(2)).squeeze(2)\n",
        "\n",
        "      x3 = F.leaky_relu(self.conv3(x))\n",
        "      x3 = F.max_pool1d(x3, x3.size(2)).squeeze(2)\n",
        "      out = torch.cat((x1, x2, x3), dim=1)\n",
        "      out = self.fc1(self.dropout(out))\n",
        "      out = torch.tanh(out)\n",
        "\n",
        "    return out\n"
      ]
    },
    {
      "cell_type": "markdown",
      "metadata": {
        "id": "VZSVDHtGak89"
      },
      "source": [
        "# Deep Sequential Data CNN"
      ]
    },
    {
      "cell_type": "code",
      "execution_count": null,
      "metadata": {
        "id": "C66TeceCarcZ"
      },
      "outputs": [],
      "source": [
        "class Deep_SEQ_CNN(nn.Module):\n",
        "  def __init__(self):\n",
        "    super().__init__()\n",
        "    self.conv1 = nn.Conv1d(12, 8, 6)\n",
        "    self.conv2 = nn.Conv1d(12, 8, 12)\n",
        "    self.conv3 = nn.Conv1d(12, 8, 24)\n",
        "    self.fc1 = nn.Linear(24, 120)\n",
        "    self.fc2 = nn.Linear(120, 84)\n",
        "    self.fc3 = nn.Linear(84, 128)\n",
        "    self.dropout = nn.Dropout(p=0.2)\n",
        "    self.print = False\n",
        "\n",
        "  def forward(self, x):\n",
        "    if self.print:\n",
        "      print(\"RAW\")\n",
        "      print(x.shape)\n",
        "      x1 = F.leaky_relu(self.conv1(x))\n",
        "      print(\"First\")\n",
        "      print(x1.shape)\n",
        "      x1 = F.max_pool1d(x1, kernel_size=x1.size(2)).squeeze(2)\n",
        "      print(\"First pool\")\n",
        "      print(x1.shape)\n",
        "      x2 = F.leaky_relu(self.conv2(x))\n",
        "      print(\"Second conv\")\n",
        "      print(x2.shape)\n",
        "      x2 = F.max_pool1d(x2, x2.size(2)).squeeze(2)\n",
        "      print(\"Second pool\")\n",
        "      print(x2.shape)\n",
        "      x3 = F.leaky_relu(self.conv3(x))\n",
        "      print(\"Third conv\")\n",
        "      print(x3.shape)\n",
        "      x3 = F.max_pool1d(x3, x3.size(2)).squeeze(2)\n",
        "      print(\"Third pool\")\n",
        "      print(x3.shape)\n",
        "\n",
        "      out = torch.cat((x1, x2, x3), dim=1)\n",
        "      out = self.fc1(self.dropout(out))\n",
        "      out = self.fc2(self.dropout(out))\n",
        "      out = self.fc3(self.dropout(out))\n",
        "      out = torch.tanh(out)\n",
        "    else:\n",
        "      x1 = F.leaky_relu(self.conv1(x))\n",
        "      x1 = F.max_pool1d(x1, kernel_size=x1.size(2)).squeeze(2)\n",
        "\n",
        "      x2 = F.leaky_relu(self.conv2(x))\n",
        "      x2 = F.max_pool1d(x2, x2.size(2)).squeeze(2)\n",
        "\n",
        "      x3 = F.leaky_relu(self.conv3(x))\n",
        "      x3 = F.max_pool1d(x3, x3.size(2)).squeeze(2)\n",
        "      out = torch.cat((x1, x2, x3), dim=1)\n",
        "      out = self.fc1(self.dropout(out))\n",
        "      out = self.fc2(self.dropout(out))\n",
        "      out = self.fc3(self.dropout(out))\n",
        "      out = torch.tanh(out)\n",
        "\n",
        "    return out\n"
      ]
    },
    {
      "cell_type": "markdown",
      "metadata": {
        "id": "4RY2uLI4TdCs"
      },
      "source": [
        "# Loss and Optimizer"
      ]
    },
    {
      "cell_type": "code",
      "execution_count": null,
      "metadata": {
        "id": "aw8O0kmSndj2"
      },
      "outputs": [],
      "source": [
        "img_cnn = Deep_IMG_CNN().to(device)\n",
        "seq_cnn = Deep_SEQ_CNN().to(device)\n",
        "\n",
        "criterion = nn.TripletMarginLoss()\n",
        "params = list(img_cnn.parameters())\n",
        "params.extend(seq_cnn.parameters())\n",
        "optimizer = optim.Adam(params, lr=0.001)"
      ]
    },
    {
      "cell_type": "markdown",
      "metadata": {
        "id": "CCrgc3XGTh_E"
      },
      "source": [
        "# Training Routine"
      ]
    },
    {
      "cell_type": "code",
      "execution_count": null,
      "metadata": {
        "id": "SE21tU8Wn35z"
      },
      "outputs": [],
      "source": [
        "img_cnn.train()\n",
        "seq_cnn.train()\n",
        "\n",
        "losses = []\n",
        "epochs = 40\n",
        "\n",
        "#Change to save checkpoints\n",
        "enable_checkpoints = True\n",
        "\n",
        "if enable_checkpoints:\n",
        "  time = datetime.now().strftime(\"%Y-%m-%d %H:%M:%S\")\n",
        "  folder_path = checkpoint_path + \"/\" + str(time)+ \"_SEQ_MODEL_12FOR12_\"\n",
        "  os.mkdir(folder_path)\n",
        "  os.mkdir(folder_path + \"/seq_cnn\")\n",
        "  os.mkdir(folder_path + \"/img_cnn\")\n",
        "\n",
        "  with open(folder_path + r\"/model_settings.txt\", \"w\") as current_settings:\n",
        "    current_settings.write(f\"ATTRIBUTES: {input_attributes} \\nAMOUNT: {amount} \\nSEED: {seed} \\nBATCH SIZE: {batch_size}\")\n",
        "\n",
        "  with open(folder_path + r\"/epoch_losses.csv\", \"w\", encoding=\"UTF8\", newline=\"\") as epoch_losses:\n",
        "    writer = csv.writer(epoch_losses, delimiter=\";\")\n",
        "    writer.writerow([\"EPOCH\", \"LOSS PER SAMPLE\"])\n",
        "\n",
        "for epoch in tqdm(range(epochs)):\n",
        "\n",
        "  running_loss = 0.0\n",
        "  for i, data in enumerate(trainloader):\n",
        "\n",
        "    anchors, positives, negatives = data\n",
        "\n",
        "    anchors = anchors.to(device)\n",
        "    anchors = anchors.float()\n",
        "    positives = positives.to(device)\n",
        "    positives = positives.float()\n",
        "    negatives = negatives.to(device)\n",
        "    negatives = negatives.float()\n",
        "\n",
        "\n",
        "    optimizer.zero_grad()\n",
        "    anchors = anchors[:, None]\n",
        "    negatives = negatives[:, None]\n",
        "    anchors = seq_cnn(anchors)\n",
        "    negatives = seq_cnn(negatives)\n",
        "    positives = img_cnn(positives)\n",
        "\n",
        "    loss = criterion(anchors, positives, negatives)\n",
        "    loss.backward()\n",
        "    optimizer.step()\n",
        "    # print(running_loss)\n",
        "    running_loss += loss.item()\n",
        "  \n",
        "  print(f\"\\nEpoch Loss: {running_loss/(amount/batch_size)}\")\n",
        "  losses.append(running_loss/(amount/batch_size))\n",
        "\n",
        "  if enable_checkpoints:\n",
        "    torch.save(seq_cnn.state_dict(), f\"{folder_path}/seq_cnn/SEQ_CNN_epoch_{epoch}\")\n",
        "    torch.save(img_cnn.state_dict(), f\"{folder_path}/img_cnn/IMG_CNN_epoch_{epoch}\")\n",
        "\n",
        "    with open(folder_path + r\"/epoch_losses.csv\", \"a\", encoding=\"UTF8\", newline=\"\") as epoch_losses:\n",
        "      writer = csv.writer(epoch_losses, delimiter=\";\")\n",
        "      writer.writerow([epoch, running_loss/(amount/batch_size)])\n",
        "\n",
        "print(\"Finished training!\")\n",
        "print(losses)"
      ]
    }
  ],
  "metadata": {
    "accelerator": "GPU",
    "colab": {
      "collapsed_sections": [],
      "machine_shape": "hm",
      "name": "Sequential.ipynb",
      "provenance": []
    },
    "kernelspec": {
      "display_name": "Python 3",
      "name": "python3"
    },
    "language_info": {
      "name": "python"
    }
  },
  "nbformat": 4,
  "nbformat_minor": 0
}